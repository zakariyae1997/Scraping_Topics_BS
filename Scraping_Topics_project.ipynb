{
 "cells": [
  {
   "cell_type": "markdown",
   "id": "c1cc9144-ca8b-466d-8532-c67690b017c9",
   "metadata": {},
   "source": [
    "#Top 20 Ropositories for Github Topics"
   ]
  },
  {
   "cell_type": "raw",
   "id": "77d4f7b2-4541-4435-b860-6aa3568a5e66",
   "metadata": {},
   "source": [
    "#Project Outline\n",
    "==>We're going to scrape https://github.com/topics\n",
    "==>We'll get a list of topics. For each topic, we'll get topic title, topic page URL and topic description\n",
    "==>For each topic, we'll get the top 20 repositories in the topic from the topic page\n",
    "==>For each repository, we'll grab the repo name, username, stars and repURL\n",
    "==>For each topic we'll create a CSV file in the followin way:\n",
    "        Repo Name,Username,Starso,URL\n",
    "        three.js,mrdoob,69700,https://github.com/mb/three.js\n",
    "        libgdx,libgdx,18300,https://github.com/libgdx/libgdx"
   ]
  },
  {
   "cell_type": "code",
   "execution_count": 1,
   "id": "a22f351f-bddd-46f0-9387-b83c861bb080",
   "metadata": {},
   "outputs": [],
   "source": [
    "import requests\n",
    "from bs4 import BeautifulSoup\n",
    "import pandas as pd"
   ]
  },
  {
   "cell_type": "markdown",
   "id": "af93518e-b10b-4852-8250-2432c88ab436",
   "metadata": {},
   "source": [
    "extract name, desription, url from each topic:"
   ]
  },
  {
   "cell_type": "code",
   "execution_count": 2,
   "id": "0c384846-33a5-4deb-876f-9e1249431d87",
   "metadata": {},
   "outputs": [],
   "source": [
    "#downloead the page\n",
    "url = 'https://github.com/topics'\n",
    "page = requests.get(url)"
   ]
  },
  {
   "cell_type": "code",
   "execution_count": 3,
   "id": "abcd29d2-fc8a-4070-a865-4e28bbfff8d6",
   "metadata": {},
   "outputs": [],
   "source": [
    "#parse the page using BeautifulSoup\n",
    "soup = BeautifulSoup(page.text,'lxml')"
   ]
  },
  {
   "cell_type": "code",
   "execution_count": 4,
   "id": "292442fa-ae53-4e09-9173-b4eb6f3feb09",
   "metadata": {},
   "outputs": [],
   "source": [
    "#get the html tags for each topic in the page\n",
    "topics = soup.find_all('a',{'class':'no-underline flex-1 d-flex flex-column'})"
   ]
  },
  {
   "cell_type": "code",
   "execution_count": 5,
   "id": "46d73a0f-c589-4942-96f1-7652b585963b",
   "metadata": {},
   "outputs": [],
   "source": [
    "#Get the liste of topics\n",
    "Topics_info = []\n",
    "for topic in topics:\n",
    "    name = topic.find('p',{'class':'f3 lh-condensed mb-0 mt-1 Link--primary'}).get_text().strip()\n",
    "    description = topic.find('p',{'class':'f5 color-fg-muted mb-0 mt-1'}).get_text().strip()\n",
    "    Topic_url = 'https://github.com' + topic['href']\n",
    "    topic_dict = {\n",
    "        'name':name,\n",
    "        'description':description,\n",
    "        'url':Topic_url,\n",
    "    }\n",
    "    Topics_info.append(topic_dict)"
   ]
  },
  {
   "cell_type": "code",
   "execution_count": 6,
   "id": "cc6979b6-ef6c-4677-8feb-3b69a3226134",
   "metadata": {},
   "outputs": [],
   "source": [
    "topics_df = pd.DataFrame(Topics_info)\n",
    "topics_df.to_csv('list_of_topics.csv',index=False)"
   ]
  },
  {
   "cell_type": "code",
   "execution_count": 7,
   "id": "b9f30762-1e21-4380-b692-834240e5d506",
   "metadata": {},
   "outputs": [
    {
     "data": {
      "text/html": [
       "<div>\n",
       "<style scoped>\n",
       "    .dataframe tbody tr th:only-of-type {\n",
       "        vertical-align: middle;\n",
       "    }\n",
       "\n",
       "    .dataframe tbody tr th {\n",
       "        vertical-align: top;\n",
       "    }\n",
       "\n",
       "    .dataframe thead th {\n",
       "        text-align: right;\n",
       "    }\n",
       "</style>\n",
       "<table border=\"1\" class=\"dataframe\">\n",
       "  <thead>\n",
       "    <tr style=\"text-align: right;\">\n",
       "      <th></th>\n",
       "      <th>name</th>\n",
       "      <th>description</th>\n",
       "      <th>url</th>\n",
       "    </tr>\n",
       "  </thead>\n",
       "  <tbody>\n",
       "    <tr>\n",
       "      <th>0</th>\n",
       "      <td>3D</td>\n",
       "      <td>3D refers to the use of three-dimensional grap...</td>\n",
       "      <td>https://github.com/topics/3d</td>\n",
       "    </tr>\n",
       "    <tr>\n",
       "      <th>1</th>\n",
       "      <td>Ajax</td>\n",
       "      <td>Ajax is a technique for creating interactive w...</td>\n",
       "      <td>https://github.com/topics/ajax</td>\n",
       "    </tr>\n",
       "    <tr>\n",
       "      <th>2</th>\n",
       "      <td>Algorithm</td>\n",
       "      <td>Algorithms are self-contained sequences that c...</td>\n",
       "      <td>https://github.com/topics/algorithm</td>\n",
       "    </tr>\n",
       "    <tr>\n",
       "      <th>3</th>\n",
       "      <td>Amp</td>\n",
       "      <td>Amp is a non-blocking concurrency library for ...</td>\n",
       "      <td>https://github.com/topics/amphp</td>\n",
       "    </tr>\n",
       "    <tr>\n",
       "      <th>4</th>\n",
       "      <td>Android</td>\n",
       "      <td>Android is an operating system built by Google...</td>\n",
       "      <td>https://github.com/topics/android</td>\n",
       "    </tr>\n",
       "  </tbody>\n",
       "</table>\n",
       "</div>"
      ],
      "text/plain": [
       "        name                                        description  \\\n",
       "0         3D  3D refers to the use of three-dimensional grap...   \n",
       "1       Ajax  Ajax is a technique for creating interactive w...   \n",
       "2  Algorithm  Algorithms are self-contained sequences that c...   \n",
       "3        Amp  Amp is a non-blocking concurrency library for ...   \n",
       "4    Android  Android is an operating system built by Google...   \n",
       "\n",
       "                                   url  \n",
       "0         https://github.com/topics/3d  \n",
       "1       https://github.com/topics/ajax  \n",
       "2  https://github.com/topics/algorithm  \n",
       "3      https://github.com/topics/amphp  \n",
       "4    https://github.com/topics/android  "
      ]
     },
     "execution_count": 7,
     "metadata": {},
     "output_type": "execute_result"
    }
   ],
   "source": [
    "topics_df.head()"
   ]
  },
  {
   "cell_type": "markdown",
   "id": "9c2cc522-3526-43f3-9bb2-a04d3ed12bd6",
   "metadata": {},
   "source": [
    "extract  Repo Name,Username,Starso,URL from each Topic page:"
   ]
  },
  {
   "cell_type": "code",
   "execution_count": 8,
   "id": "b84e34bd-51eb-4aa6-9c9c-35c572b756f2",
   "metadata": {},
   "outputs": [],
   "source": [
    "def extract_rep(Topic_url):\n",
    "    #Returns all the required informations about a repository:\n",
    "    #downloead the page\n",
    "    topic_page = requests.get(Topic_url)\n",
    "    #parse the page using BeautifulSoup\n",
    "    Topic_soup = BeautifulSoup(topic_page.text,'lxml')\n",
    "    #get the html tags for each repository in the page\n",
    "    Repositories = Topic_soup.find_all('div',{'class':'d-flex flex-justify-between flex-items-start flex-wrap gap-2 my-3'})\n",
    "    topic_rep=[]\n",
    "    for rep in Repositories:\n",
    "        #get the repository name\n",
    "        rep_name = rep.find('a',{'class':'Link text-bold wb-break-word'}).get_text().strip()\n",
    "        #get the repository username\n",
    "        rep_username = rep.find('a',{'class':'Link'}).get_text().strip()\n",
    "        #get the repository URL\n",
    "        rep_url = 'https://github.com' + rep.find('a',{'class':'Link text-bold wb-break-word'})['href']\n",
    "        #get the repository stars\n",
    "        rep_stars = rep.find('span',{'class':'Counter js-social-count'}).get_text().strip()\n",
    "        if 'k' in rep_stars:\n",
    "            repstars = float(rep_stars[:-1])*1000\n",
    "        else:\n",
    "            repstars = float(rep_stars)\n",
    "\n",
    "        #Get all the repository informations\n",
    "        rep_info = {\n",
    "            'Repo Name':rep_name,\n",
    "            'Username':rep_username,\n",
    "            'Stars':repstars,\n",
    "            'Repo URL':rep_url,\n",
    "        }\n",
    "        topic_rep.append(rep_info)\n",
    "    topic_rep_df = pd.DataFrame(topic_rep)\n",
    "    return topic_rep_df.head(20)\n",
    "    "
   ]
  },
  {
   "cell_type": "code",
   "execution_count": 9,
   "id": "2e2afa1f-cfa3-40e8-a3e6-c0609ad32ffd",
   "metadata": {},
   "outputs": [
    {
     "name": "stdout",
     "output_type": "stream",
     "text": [
      "Scraping liste of Topics\n",
      "Scraping top 20 repositories for \"3D\" Topic \n",
      "Scraping top 20 repositories for \"Ajax\" Topic \n",
      "Scraping top 20 repositories for \"Algorithm\" Topic \n",
      "Scraping top 20 repositories for \"Amp\" Topic \n",
      "Scraping top 20 repositories for \"Android\" Topic \n",
      "Scraping top 20 repositories for \"Angular\" Topic \n",
      "Scraping top 20 repositories for \"Ansible\" Topic \n",
      "Scraping top 20 repositories for \"API\" Topic \n",
      "Scraping top 20 repositories for \"Arduino\" Topic \n",
      "Scraping top 20 repositories for \"ASP.NET\" Topic \n",
      "Scraping top 20 repositories for \"Awesome Lists\" Topic \n",
      "Scraping top 20 repositories for \"Amazon Web Services\" Topic \n",
      "Scraping top 20 repositories for \"Azure\" Topic \n",
      "Scraping top 20 repositories for \"Babel\" Topic \n",
      "Scraping top 20 repositories for \"Bash\" Topic \n",
      "Scraping top 20 repositories for \"Bitcoin\" Topic \n",
      "Scraping top 20 repositories for \"Bootstrap\" Topic \n",
      "Scraping top 20 repositories for \"Bot\" Topic \n",
      "Scraping top 20 repositories for \"C\" Topic \n",
      "Scraping top 20 repositories for \"Chrome\" Topic \n",
      "Scraping top 20 repositories for \"Chrome extension\" Topic \n",
      "Scraping top 20 repositories for \"Command-line interface\" Topic \n",
      "Scraping top 20 repositories for \"Clojure\" Topic \n",
      "Scraping top 20 repositories for \"Code quality\" Topic \n",
      "Scraping top 20 repositories for \"Code review\" Topic \n",
      "Scraping top 20 repositories for \"Compiler\" Topic \n",
      "Scraping top 20 repositories for \"Continuous integration\" Topic \n",
      "Scraping top 20 repositories for \"C++\" Topic \n",
      "Scraping top 20 repositories for \"Cryptocurrency\" Topic \n",
      "Scraping top 20 repositories for \"Crystal\" Topic \n"
     ]
    }
   ],
   "source": [
    "#apply the function for all topics URLs and get top 20 repos as a csv fille named {topic_name}_rep_data.csv\n",
    "print('Scraping liste of Topics')\n",
    "for turl, name in zip(topics_df['url'], topics_df['name']):\n",
    "    rep_data = extract_rep(turl)\n",
    "    rep_data.to_csv(f'{name}_rep_data.csv', index=False)\n",
    "    print(f'Scraping top 20 repositories for \"{name}\" Topic ')"
   ]
  },
  {
   "cell_type": "code",
   "execution_count": 10,
   "id": "9286d3b2-3aef-405f-babe-0fbc1ca736ca",
   "metadata": {},
   "outputs": [],
   "source": [
    "#check the csv fille forme for the first topic (3D Topic)\n",
    "df_3D_Topic = pd.read_csv(r'3D_rep_data.csv')"
   ]
  },
  {
   "cell_type": "code",
   "execution_count": 11,
   "id": "17933d53-83c4-4d7b-be0a-0c53af06f4eb",
   "metadata": {},
   "outputs": [
    {
     "data": {
      "text/html": [
       "<div>\n",
       "<style scoped>\n",
       "    .dataframe tbody tr th:only-of-type {\n",
       "        vertical-align: middle;\n",
       "    }\n",
       "\n",
       "    .dataframe tbody tr th {\n",
       "        vertical-align: top;\n",
       "    }\n",
       "\n",
       "    .dataframe thead th {\n",
       "        text-align: right;\n",
       "    }\n",
       "</style>\n",
       "<table border=\"1\" class=\"dataframe\">\n",
       "  <thead>\n",
       "    <tr style=\"text-align: right;\">\n",
       "      <th></th>\n",
       "      <th>Repo Name</th>\n",
       "      <th>Username</th>\n",
       "      <th>Stars</th>\n",
       "      <th>Repo URL</th>\n",
       "    </tr>\n",
       "  </thead>\n",
       "  <tbody>\n",
       "    <tr>\n",
       "      <th>0</th>\n",
       "      <td>three.js</td>\n",
       "      <td>mrdoob</td>\n",
       "      <td>101000.0</td>\n",
       "      <td>https://github.com/mrdoob/three.js</td>\n",
       "    </tr>\n",
       "    <tr>\n",
       "      <th>1</th>\n",
       "      <td>react-three-fiber</td>\n",
       "      <td>pmndrs</td>\n",
       "      <td>27000.0</td>\n",
       "      <td>https://github.com/pmndrs/react-three-fiber</td>\n",
       "    </tr>\n",
       "    <tr>\n",
       "      <th>2</th>\n",
       "      <td>libgdx</td>\n",
       "      <td>libgdx</td>\n",
       "      <td>23100.0</td>\n",
       "      <td>https://github.com/libgdx/libgdx</td>\n",
       "    </tr>\n",
       "    <tr>\n",
       "      <th>3</th>\n",
       "      <td>Babylon.js</td>\n",
       "      <td>BabylonJS</td>\n",
       "      <td>22900.0</td>\n",
       "      <td>https://github.com/BabylonJS/Babylon.js</td>\n",
       "    </tr>\n",
       "    <tr>\n",
       "      <th>4</th>\n",
       "      <td>tinyrenderer</td>\n",
       "      <td>ssloy</td>\n",
       "      <td>20100.0</td>\n",
       "      <td>https://github.com/ssloy/tinyrenderer</td>\n",
       "    </tr>\n",
       "  </tbody>\n",
       "</table>\n",
       "</div>"
      ],
      "text/plain": [
       "           Repo Name   Username     Stars  \\\n",
       "0           three.js     mrdoob  101000.0   \n",
       "1  react-three-fiber     pmndrs   27000.0   \n",
       "2             libgdx     libgdx   23100.0   \n",
       "3         Babylon.js  BabylonJS   22900.0   \n",
       "4       tinyrenderer      ssloy   20100.0   \n",
       "\n",
       "                                      Repo URL  \n",
       "0           https://github.com/mrdoob/three.js  \n",
       "1  https://github.com/pmndrs/react-three-fiber  \n",
       "2             https://github.com/libgdx/libgdx  \n",
       "3      https://github.com/BabylonJS/Babylon.js  \n",
       "4        https://github.com/ssloy/tinyrenderer  "
      ]
     },
     "execution_count": 11,
     "metadata": {},
     "output_type": "execute_result"
    }
   ],
   "source": [
    "df_3D_Topic.head()"
   ]
  },
  {
   "cell_type": "code",
   "execution_count": null,
   "id": "b4eb0d34-f21d-42d9-ab6d-2dc89bbd927d",
   "metadata": {},
   "outputs": [],
   "source": []
  }
 ],
 "metadata": {
  "kernelspec": {
   "display_name": "Python 3 (ipykernel)",
   "language": "python",
   "name": "python3"
  },
  "language_info": {
   "codemirror_mode": {
    "name": "ipython",
    "version": 3
   },
   "file_extension": ".py",
   "mimetype": "text/x-python",
   "name": "python",
   "nbconvert_exporter": "python",
   "pygments_lexer": "ipython3",
   "version": "3.12.4"
  }
 },
 "nbformat": 4,
 "nbformat_minor": 5
}
